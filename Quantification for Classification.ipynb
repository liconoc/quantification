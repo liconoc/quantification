{
 "cells": [
  {
   "cell_type": "markdown",
   "metadata": {
    "collapsed": true
   },
   "source": [
    "# Quantification\n",
    "*****************\n",
    "**\"The quantification task for machine learning: given a limited training set with class labels, induce a quantifier that takes an unlabeled test set as input and returns its best estimate of the number of cases in each class.\" \n",
    "_Quantifying counts and costs via classification, George Forman _**\n",
    "\n",
    "## Data\n",
    "\n",
    "Data used in this demo are published on: http://archive.ics.uci.edu/ml/datasets/Occupancy+Detection+#\n",
    "\n",
    "### Occupancy Detection Data Set\n",
    "\n",
    "_Abstract_: Experimental data used for binary classification (room occupancy) from Temperature, Humidity, Light and CO2. Ground-truth occupancy was obtained from time stamped pictures that were taken every minute.\n",
    "\n",
    "Occupancy=[0,1]\n",
    "![](http://users.dsic.upv.es/~flip/caspdm/imagenes/pairs_plot_green_blue_time.png)\n",
    "![](http://users.dsic.upv.es/~flip/caspdm/imagenes/VarImp_modelRF_All.png)"
   ]
  },
  {
   "cell_type": "code",
   "execution_count": 2,
   "metadata": {
    "collapsed": false
   },
   "outputs": [
    {
     "name": "stderr",
     "output_type": "stream",
     "text": [
      "Loading required package: class\n",
      "Warning message:\n",
      ": package 'class' was built under R version 3.2.5"
     ]
    },
    {
     "data": {
      "text/html": [
       "<table>\n",
       "<thead><tr><th></th><th scope=col>Temperature</th><th scope=col>Humidity</th><th scope=col>Light</th><th scope=col>CO2</th><th scope=col>HumidityRatio</th><th scope=col>Occupancy</th></tr></thead>\n",
       "<tbody>\n",
       "\t<tr><th scope=row>1</th><td>23.18</td><td>27.272</td><td>426</td><td>721.25</td><td>0.004792988</td><td>1</td></tr>\n",
       "\t<tr><th scope=row>2</th><td>23.15</td><td>27.2675</td><td>429.5</td><td>714</td><td>0.004783441</td><td>1</td></tr>\n",
       "\t<tr><th scope=row>3</th><td>23.15</td><td>27.245</td><td>426</td><td>713.5</td><td>0.004779464</td><td>1</td></tr>\n",
       "\t<tr><th scope=row>4</th><td>23.15</td><td>27.2</td><td>426</td><td>708.25</td><td>0.004771509</td><td>1</td></tr>\n",
       "\t<tr><th scope=row>5</th><td>23.1</td><td>27.2</td><td>426</td><td>704.5</td><td>0.004756993</td><td>1</td></tr>\n",
       "\t<tr><th scope=row>6</th><td>23.1</td><td>27.2</td><td>419</td><td>701</td><td>0.004756993</td><td>1</td></tr>\n",
       "\t<tr><th scope=row>7</th><td>23.1</td><td>27.2</td><td>419</td><td>701.6667</td><td>0.004756993</td><td>1</td></tr>\n",
       "\t<tr><th scope=row>8</th><td>23.1</td><td>27.2</td><td>419</td><td>699</td><td>0.004756993</td><td>1</td></tr>\n",
       "\t<tr><th scope=row>9</th><td>23.1</td><td>27.2</td><td>419</td><td>689.3333</td><td>0.004756993</td><td>1</td></tr>\n",
       "\t<tr><th scope=row>10</th><td>23.075</td><td>27.175</td><td>419</td><td>688</td><td>0.004745351</td><td>1</td></tr>\n",
       "</tbody>\n",
       "</table>\n"
      ],
      "text/latex": [
       "\\begin{tabular}{r|llllll}\n",
       "  & Temperature & Humidity & Light & CO2 & HumidityRatio & Occupancy\\\\\n",
       "\\hline\n",
       "\t1 & 23.18 & 27.272 & 426 & 721.25 & 0.004792988 & 1\\\\\n",
       "\t2 & 23.15 & 27.2675 & 429.5 & 714 & 0.004783441 & 1\\\\\n",
       "\t3 & 23.15 & 27.245 & 426 & 713.5 & 0.004779464 & 1\\\\\n",
       "\t4 & 23.15 & 27.2 & 426 & 708.25 & 0.004771509 & 1\\\\\n",
       "\t5 & 23.1 & 27.2 & 426 & 704.5 & 0.004756993 & 1\\\\\n",
       "\t6 & 23.1 & 27.2 & 419 & 701 & 0.004756993 & 1\\\\\n",
       "\t7 & 23.1 & 27.2 & 419 & 701.6667 & 0.004756993 & 1\\\\\n",
       "\t8 & 23.1 & 27.2 & 419 & 699 & 0.004756993 & 1\\\\\n",
       "\t9 & 23.1 & 27.2 & 419 & 689.3333 & 0.004756993 & 1\\\\\n",
       "\t10 & 23.075 & 27.175 & 419 & 688 & 0.004745351 & 1\\\\\n",
       "\\end{tabular}\n"
      ],
      "text/plain": [
       "   Temperature Humidity Light      CO2 HumidityRatio Occupancy\n",
       "1       23.180  27.2720 426.0 721.2500   0.004792988         1\n",
       "2       23.150  27.2675 429.5 714.0000   0.004783441         1\n",
       "3       23.150  27.2450 426.0 713.5000   0.004779464         1\n",
       "4       23.150  27.2000 426.0 708.2500   0.004771509         1\n",
       "5       23.100  27.2000 426.0 704.5000   0.004756993         1\n",
       "6       23.100  27.2000 419.0 701.0000   0.004756993         1\n",
       "7       23.100  27.2000 419.0 701.6667   0.004756993         1\n",
       "8       23.100  27.2000 419.0 699.0000   0.004756993         1\n",
       "9       23.100  27.2000 419.0 689.3333   0.004756993         1\n",
       "10      23.075  27.1750 419.0 688.0000   0.004745351         1"
      ]
     },
     "execution_count": 2,
     "metadata": {},
     "output_type": "execute_result"
    }
   ],
   "source": [
    "require(class)\n",
    "data<-read.csv(\"data.csv\")\n",
    "\n",
    "head(data[,3:8],10)\n"
   ]
  },
  {
   "cell_type": "markdown",
   "metadata": {},
   "source": [
    "Number of instances:"
   ]
  },
  {
   "cell_type": "code",
   "execution_count": 3,
   "metadata": {
    "collapsed": false
   },
   "outputs": [
    {
     "data": {
      "text/html": [
       "20560"
      ],
      "text/latex": [
       "20560"
      ],
      "text/markdown": [
       "20560"
      ],
      "text/plain": [
       "[1] 20560"
      ]
     },
     "execution_count": 3,
     "metadata": {},
     "output_type": "execute_result"
    }
   ],
   "source": [
    "nrow(data)"
   ]
  },
  {
   "cell_type": "markdown",
   "metadata": {},
   "source": [
    "Number of instances of class \"0\""
   ]
  },
  {
   "cell_type": "code",
   "execution_count": 4,
   "metadata": {
    "collapsed": false
   },
   "outputs": [
    {
     "data": {
      "text/html": [
       "15810"
      ],
      "text/latex": [
       "15810"
      ],
      "text/markdown": [
       "15810"
      ],
      "text/plain": [
       "[1] 15810"
      ]
     },
     "execution_count": 4,
     "metadata": {},
     "output_type": "execute_result"
    }
   ],
   "source": [
    "nrow(data[which(data$Occupancy==0),])"
   ]
  },
  {
   "cell_type": "markdown",
   "metadata": {},
   "source": [
    "Number of instances of class \"1\""
   ]
  },
  {
   "cell_type": "code",
   "execution_count": 5,
   "metadata": {
    "collapsed": false
   },
   "outputs": [
    {
     "data": {
      "text/html": [
       "4750"
      ],
      "text/latex": [
       "4750"
      ],
      "text/markdown": [
       "4750"
      ],
      "text/plain": [
       "[1] 4750"
      ]
     },
     "execution_count": 5,
     "metadata": {},
     "output_type": "execute_result"
    }
   ],
   "source": [
    "nrow(data[which(data$Occupancy==1),])"
   ]
  },
  {
   "cell_type": "markdown",
   "metadata": {},
   "source": [
    "Dataset split into 3 sets:\n",
    "+ 60% training (training the probabilistic model).\n",
    "+ 20% validation (to calculate the cutoffs).\n",
    "+ 20% test (to evaluate the results).\n"
   ]
  },
  {
   "cell_type": "code",
   "execution_count": 6,
   "metadata": {
    "collapsed": true
   },
   "outputs": [],
   "source": [
    "train<-head(data,12336)\n",
    "test<-tail(data,4112)\n",
    "validation<-data[12337:16448,]"
   ]
  },
  {
   "cell_type": "markdown",
   "metadata": {},
   "source": [
    "Percentage of instances = 0 in the test set:"
   ]
  },
  {
   "cell_type": "code",
   "execution_count": 7,
   "metadata": {
    "collapsed": false
   },
   "outputs": [
    {
     "data": {
      "text/html": [
       "\"63.86 %\""
      ],
      "text/latex": [
       "\"63.86 %\""
      ],
      "text/markdown": [
       "\"63.86 %\""
      ],
      "text/plain": [
       "[1] \"63.86 %\""
      ]
     },
     "execution_count": 7,
     "metadata": {},
     "output_type": "execute_result"
    }
   ],
   "source": [
    "paste(round(nrow(test[which(test$Occupancy==0),])*100/nrow(test),digits=2),\"%\")"
   ]
  },
  {
   "cell_type": "markdown",
   "metadata": {},
   "source": [
    "Percentage of instances = 1 in the test set:"
   ]
  },
  {
   "cell_type": "code",
   "execution_count": 8,
   "metadata": {
    "collapsed": false
   },
   "outputs": [
    {
     "data": {
      "text/html": [
       "\"36.14 %\""
      ],
      "text/latex": [
       "\"36.14 %\""
      ],
      "text/markdown": [
       "\"36.14 %\""
      ],
      "text/plain": [
       "[1] \"36.14 %\""
      ]
     },
     "execution_count": 8,
     "metadata": {},
     "output_type": "execute_result"
    }
   ],
   "source": [
    "paste(round(nrow(test[which(test$Occupancy==1),])*100/nrow(test),digits=2),\"%\")"
   ]
  },
  {
   "cell_type": "markdown",
   "metadata": {},
   "source": [
    "\n",
    "*************\n",
    "\n",
    "## Classification\n",
    "In machine learning and statistics, classification is the problem of identifying to which of a set of categories (sub-populations) a new observation belongs, on the basis of a training set of data containing observations (or instances) whose category membership is known.\n",
    "\n",
    "In this demo we used the k-NN algorithm.\n",
    "\n",
    "### k-Nearest Neighbour Classification (Package: class)\n",
    "\n",
    "* **Description:**\n",
    "k-nearest neighbour classification for test set from training set. For each row of the test set, the k nearest (in Euclidean distance) training set vectors are found, and the classification is decided by majority vote, with ties broken at random. If there are ties for the k th nearest vector, all candidates are included in the vote.\n",
    "\n",
    "* **Usage:**\n",
    "knn(train, test, cl, k = 1, l = 0, prob = FALSE, use.all = TRUE)\n",
    "\n"
   ]
  },
  {
   "cell_type": "markdown",
   "metadata": {},
   "source": [
    "Validation set:"
   ]
  },
  {
   "cell_type": "code",
   "execution_count": 9,
   "metadata": {
    "collapsed": false
   },
   "outputs": [],
   "source": [
    "cl<-train[,8]\n",
    "validation_sol<-validation[,8]\n",
    "validation_pred<-knn(train[,3:8], validation[,3:8], cl, k = 10)\n",
    "validation_pred<-as.numeric(as.character(validation_pred))\n",
    "sol<-cbind(validation_sol,validation_pred)\n"
   ]
  },
  {
   "cell_type": "markdown",
   "metadata": {},
   "source": [
    "Wrong cassified instances (validation set):"
   ]
  },
  {
   "cell_type": "code",
   "execution_count": 10,
   "metadata": {
    "collapsed": false
   },
   "outputs": [
    {
     "data": {
      "text/html": [
       "124"
      ],
      "text/latex": [
       "124"
      ],
      "text/markdown": [
       "124"
      ],
      "text/plain": [
       "[1] 124"
      ]
     },
     "execution_count": 10,
     "metadata": {},
     "output_type": "execute_result"
    }
   ],
   "source": [
    "length(sol[which(sol[,1]!=sol[,2]),])"
   ]
  },
  {
   "cell_type": "markdown",
   "metadata": {},
   "source": [
    "Percentage of wrong classified instances (validation set):"
   ]
  },
  {
   "cell_type": "code",
   "execution_count": 11,
   "metadata": {
    "collapsed": false
   },
   "outputs": [
    {
     "data": {
      "text/html": [
       "\"3.02 %\""
      ],
      "text/latex": [
       "\"3.02 %\""
      ],
      "text/markdown": [
       "\"3.02 %\""
      ],
      "text/plain": [
       "[1] \"3.02 %\""
      ]
     },
     "execution_count": 11,
     "metadata": {},
     "output_type": "execute_result"
    }
   ],
   "source": [
    "paste(round(length(sol[which(sol[,1]!=sol[,2]),])*100/nrow(validation),2),\"%\")"
   ]
  },
  {
   "cell_type": "markdown",
   "metadata": {},
   "source": [
    "Test set:"
   ]
  },
  {
   "cell_type": "code",
   "execution_count": 12,
   "metadata": {
    "collapsed": true
   },
   "outputs": [],
   "source": [
    "test_sol<-test[,8]\n",
    "test_pred<-knn(train[,3:8], test[,3:8], cl, k = 10)\n",
    "test_pred<-as.numeric(as.character(test_pred))\n",
    "sol<-cbind(test_sol,test_pred)"
   ]
  },
  {
   "cell_type": "markdown",
   "metadata": {},
   "source": [
    "Wrong cassified instances (test set):"
   ]
  },
  {
   "cell_type": "code",
   "execution_count": 13,
   "metadata": {
    "collapsed": false
   },
   "outputs": [
    {
     "data": {
      "text/html": [
       "144"
      ],
      "text/latex": [
       "144"
      ],
      "text/markdown": [
       "144"
      ],
      "text/plain": [
       "[1] 144"
      ]
     },
     "execution_count": 13,
     "metadata": {},
     "output_type": "execute_result"
    }
   ],
   "source": [
    "length(sol[which(sol[,1]!=sol[,2]),])"
   ]
  },
  {
   "cell_type": "markdown",
   "metadata": {},
   "source": [
    "*************\n",
    "\n",
    "## Quantification\n",
    "\n",
    "### CC (Classify and count)\n",
    "\n",
    "Descripción...\n"
   ]
  },
  {
   "cell_type": "code",
   "execution_count": 23,
   "metadata": {
    "collapsed": true
   },
   "outputs": [],
   "source": [
    "# CLASSIFY AND COUNT\n",
    "# yTestPred: predicted class in the test set\n",
    "# clase: class to obtain the quantification\n",
    "CC <- function(yTestPred,clase){\n",
    "\treturn(length(which(yTestPred==clase))/length(yTestPred))\n",
    "}"
   ]
  },
  {
   "cell_type": "markdown",
   "metadata": {},
   "source": [
    "Prediction for class \"0\":"
   ]
  },
  {
   "cell_type": "code",
   "execution_count": 24,
   "metadata": {
    "collapsed": false
   },
   "outputs": [
    {
     "data": {
      "text/html": [
       "\"0.63 %\""
      ],
      "text/latex": [
       "\"0.63 %\""
      ],
      "text/markdown": [
       "\"0.63 %\""
      ],
      "text/plain": [
       "[1] \"0.63 %\""
      ]
     },
     "execution_count": 24,
     "metadata": {},
     "output_type": "execute_result"
    }
   ],
   "source": [
    "paste(round(CC(test_pred,\"0\"),2),\"%\")"
   ]
  },
  {
   "cell_type": "markdown",
   "metadata": {},
   "source": [
    "Prediction for class \"1\":"
   ]
  },
  {
   "cell_type": "code",
   "execution_count": 26,
   "metadata": {
    "collapsed": false
   },
   "outputs": [
    {
     "data": {
      "text/html": [
       "\"0.37 %\""
      ],
      "text/latex": [
       "\"0.37 %\""
      ],
      "text/markdown": [
       "\"0.37 %\""
      ],
      "text/plain": [
       "[1] \"0.37 %\""
      ]
     },
     "execution_count": 26,
     "metadata": {},
     "output_type": "execute_result"
    }
   ],
   "source": [
    "paste(round(CC(test_pred,\"1\"),2),\"%\")"
   ]
  },
  {
   "cell_type": "markdown",
   "metadata": {},
   "source": [
    "### AC (Adjusted count)\n",
    "Descripción..."
   ]
  },
  {
   "cell_type": "code",
   "execution_count": 28,
   "metadata": {
    "collapsed": true
   },
   "outputs": [],
   "source": [
    "# ADJUSTED COUNT\n",
    "# yValPred: predicted class in the validation set\n",
    "# yVal: actual class in the validation set\n",
    "# yTestPred: predicted class in the test set\n",
    "# clase: class to obtain the quatification\n",
    "AC <- function(yVal,yValPred,yTestPred,clase){\n",
    "  res<-0.0\n",
    "  lenYVal<-length(yVal)\n",
    "  PV<-length(which(yVal==clase))\n",
    "  NV<-lenYVal-PV\n",
    "  TPRV<-length(which(yValPred==clase & yVal==clase))/PV\n",
    "  FPRV<-length(which(yValPred==clase & yVal!=clase))/NV\n",
    "  \n",
    "  lenYTest<-length(yTestPred)\n",
    "  PT<-length(which(yTestPred==clase))\n",
    "  NT<-lenYTest-PT\n",
    "  PPT<-PT/lenYTest\n",
    "  PNT<-NT/lenYTest\n",
    "  \n",
    "  if((TPRV-FPRV)==0){\n",
    "    res<-0.5\n",
    "    #res<-0.0\n",
    "  }\n",
    "  if((TPRV-FPRV)!=0){\n",
    "    res<-(CC(yTestPred,clase)-FPRV)/(TPRV-FPRV)\n",
    "  }\n",
    "  res[res<0]<-0\n",
    "  res[res>1]<-1\n",
    "  \n",
    "  return(res)\n",
    "}"
   ]
  },
  {
   "cell_type": "markdown",
   "metadata": {},
   "source": [
    "Prediction for class: \"0\""
   ]
  },
  {
   "cell_type": "code",
   "execution_count": 29,
   "metadata": {
    "collapsed": false
   },
   "outputs": [
    {
     "data": {
      "text/html": [
       "\"0.63 %\""
      ],
      "text/latex": [
       "\"0.63 %\""
      ],
      "text/markdown": [
       "\"0.63 %\""
      ],
      "text/plain": [
       "[1] \"0.63 %\""
      ]
     },
     "execution_count": 29,
     "metadata": {},
     "output_type": "execute_result"
    }
   ],
   "source": [
    "paste(round(AC(validation_sol,validation_pred,test_pred,\"0\"),2),\"%\")"
   ]
  },
  {
   "cell_type": "markdown",
   "metadata": {},
   "source": [
    "Prediction for class: \"1\""
   ]
  },
  {
   "cell_type": "code",
   "execution_count": 30,
   "metadata": {
    "collapsed": false
   },
   "outputs": [
    {
     "data": {
      "text/html": [
       "\"0.37 %\""
      ],
      "text/latex": [
       "\"0.37 %\""
      ],
      "text/markdown": [
       "\"0.37 %\""
      ],
      "text/plain": [
       "[1] \"0.37 %\""
      ]
     },
     "execution_count": 30,
     "metadata": {},
     "output_type": "execute_result"
    }
   ],
   "source": [
    "paste(round(AC(validation_sol,validation_pred,test_pred,\"1\"),2),\"%\")"
   ]
  }
 ],
 "metadata": {
  "kernelspec": {
   "display_name": "R",
   "language": "R",
   "name": "ir"
  },
  "language_info": {
   "codemirror_mode": "r",
   "file_extension": ".r",
   "mimetype": "text/x-r-source",
   "name": "R",
   "pygments_lexer": "r",
   "version": "3.2.4"
  }
 },
 "nbformat": 4,
 "nbformat_minor": 0
}
